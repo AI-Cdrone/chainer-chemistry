{
 "cells": [
  {
   "cell_type": "code",
   "execution_count": 1,
   "metadata": {
    "collapsed": true
   },
   "outputs": [],
   "source": [
    "from rdkit import Chem\n",
    "\n",
    "import numpy\n",
    "from rdkit.Chem import rdMolDescriptors, rdmolops, Mol, AllChem\n",
    "\n",
    "from chainerchem.dataset.preprocessor.mol_preprocessor import MolPreprocessor\n",
    "from chainerchem.dataset.preprocessor.mol_preprocessor import MolFeatureExtractFailure\n",
    "\n",
    "\n",
    "def get_atom_array(mol, zero_padding=False ,n_max_atoms=-1):\n",
    "        atom_list = [a.GetAtomicNum() for a in mol.GetAtoms()]\n",
    "        if zero_padding:\n",
    "            # 'empty' padding for atom_list\n",
    "            # 0 represents empty place for atom\n",
    "            n_atom = len(atom_list)\n",
    "            atom_list = atom_list + [0] * (n_max_atoms - n_atom)\n",
    "            # atom_array = numpy.zeros((max_num_atom,), dtype=numpy.int32)\n",
    "            # atom_array[:n_atom] = numpy.array(atom_list)\n",
    "        return numpy.array(atom_list, dtype=numpy.int32)\n",
    "\n",
    "def constructBond(mol, i, j):\n",
    "    bondFeature = numpy.zeros((4,), dtype = 'f')\n",
    "    k = mol.GetBondBetweenAtoms(i,j)\n",
    "    if k is not None:\n",
    "        bondType = str(k.GetBondType())\n",
    "        if bondType == 'SINGLE':\n",
    "            bondFeature[0] = 1.0\n",
    "        elif bondType =='DOUBLE':\n",
    "            bondFeature[1] = 1.0            \n",
    "        elif bondType =='TRIPLE':\n",
    "            bondFeature[2] = 1.0\n",
    "        elif bondType =='AROMATIC':\n",
    "            bondFeature[3] = 1.0\n",
    "        else:\n",
    "            print(\"Unknown bond type\", bondType)\n",
    "            assert(False)\n",
    "    return bondFeature\n",
    "\n",
    "MAX_DISTANCE = 7\n",
    "\n",
    "def constructDistance(distanceMatrix, i, j):\n",
    "    distance = min(MAX_DISTANCE, int(distanceMatrix[i][j]))\n",
    "    distanceFeature = numpy.zeros((MAX_DISTANCE,), dtype = 'f')\n",
    "    distanceFeature[:distance] = 1.0\n",
    "    return distanceFeature\n",
    "\n",
    "def constructRingFeature(mol,n_max_atoms=-1):\n",
    "    MAX_NUMBER_ATOM = n_max_atoms\n",
    "    nAtom = mol.GetNumAtoms()    \n",
    "    rinfo = mol.GetRingInfo()\n",
    "    sssr = Chem.GetSymmSSSR(mol)\n",
    "    ringFeature = numpy.zeros((MAX_NUMBER_ATOM**2, 1,), dtype = 'f')\n",
    "    for ring in sssr:\n",
    "        ring = list(ring)\n",
    "        nAtomInRing = len(ring)\n",
    "        for i in range(nAtomInRing):\n",
    "            for j in range(nAtomInRing):\n",
    "                a0 = ring[i]\n",
    "                a1 = ring[j]\n",
    "                ringFeature[a0*nAtom + a1] = 1\n",
    "    return ringFeature\n",
    "\n",
    "def constructPairFeature(mol=Chem.Mol, zero_padding=False, n_max_atoms=-1):\n",
    "    MAX_NUMBER_ATOM = n_max_atoms\n",
    "    nAtom = mol.GetNumAtoms()  \n",
    "    distanceMatrix = Chem.GetDistanceMatrix(mol)\n",
    "    distanceFeature = numpy.zeros((MAX_NUMBER_ATOM**2, MAX_DISTANCE,), dtype = 'f')\n",
    "    print(distanceMatrix)\n",
    "    for i in range(nAtom):\n",
    "        for j in range(nAtom):\n",
    "            distanceFeature[i*nAtom + j] = constructDistance(distanceMatrix, i, j)\n",
    "    bondFeature = numpy.zeros((MAX_NUMBER_ATOM**2,4,), dtype = 'f')\n",
    "    for i in range(nAtom):\n",
    "        for j in range(nAtom):\n",
    "            bondFeature[i*nAtom + j] = constructBond(mol, i, j)\n",
    "    ringFeature = constructRingFeature(mol,n_max_atoms=MAX_NUMBER_ATOM)\n",
    "    feature = numpy.hstack((distanceFeature, bondFeature, ringFeature))\n",
    "    return feature\n",
    "    \n",
    "class WeaveNetPreprocessor(MolPreprocessor):\n",
    "    def __init__(self, labels=None, max_atoms=-1, zero_padding=False):\n",
    "        \"\"\"\n",
    "\n",
    "        Args:\n",
    "            labels (str or list): label names to extract\n",
    "            max_atoms (int): Max number of atoms for each molecule, if the number \n",
    "            of atoms is more than this value, this data is simply ignored.\n",
    "            Setting negative value indicates no limit for max atoms.\n",
    "            zero_padding (bool): True\n",
    "\n",
    "        \"\"\"\n",
    "        super(WeaveNetPreprocessor, self).__init__(labels=labels)\n",
    "        if zero_padding and max_atoms <= 0:\n",
    "            raise ValueError('max_atoms must be set to positive value when '\n",
    "                             'zero_padding is True')\n",
    "\n",
    "        self.max_atoms = max_atoms\n",
    "        self.zero_padding = zero_padding\n",
    "        if zero_padding:\n",
    "            self.feature_array_dtype_list = [numpy.float32, numpy.float32,\n",
    "                                             numpy.int32]\n",
    "        else:\n",
    "            self.feature_array_dtype_list = [None, None, numpy.int32]\n",
    "            \n",
    "    def get_descriptor(self, mol):\n",
    "        \"\"\"\n",
    "\n",
    "        Args:\n",
    "            mol (Mol): \n",
    "\n",
    "        Returns:\n",
    "\n",
    "        \"\"\"\n",
    "        mol =Chem.AddHs(mol)\n",
    "        num_atoms = mol.GetNumAtoms()\n",
    "        if self.max_atoms >= 0 and num_atoms > self.max_atoms:\n",
    "            # Skip extracting feature. ignore this case.\n",
    "            raise MolFeatureExtractFailure\n",
    "        atom_array = get_atom_array(mol,self.zero_padding,\n",
    "                                                   n_max_atoms=self.max_atoms)\n",
    "        print(atom_array)\n",
    "        pair_feature = constructPairFeature(mol, self.zero_padding,\n",
    "                                                   n_max_atoms=self.max_atoms)\n",
    "        print(pair_feature)\n",
    "        return atom_array, pair_feature"
   ]
  },
  {
   "cell_type": "code",
   "execution_count": 2,
   "metadata": {
    "collapsed": true
   },
   "outputs": [],
   "source": [
    "smi =\"CN1CCN(CC2=CC=C(C=C2)C(=O)NC2=CC(NC3=NC=CC(=N3)C3=CN=CC=C3)=C(C)C=C2)CC1\"\n",
    "mol = Chem.MolFromSmiles(smi)"
   ]
  },
  {
   "cell_type": "code",
   "execution_count": 7,
   "metadata": {
    "collapsed": true
   },
   "outputs": [],
   "source": [
    "wp = WeaveNetPreprocessor(max_atoms=100,zero_padding=True)"
   ]
  },
  {
   "cell_type": "code",
   "execution_count": 8,
   "metadata": {
    "collapsed": false
   },
   "outputs": [
    {
     "name": "stdout",
     "output_type": "stream",
     "text": [
      "[6 7 6 6 7 6 6 6 6 6 6 6 6 8 7 6 6 6 7 6 7 6 6 6 7 6 6 7 6 6 6 6 6 6 6 6 6\n",
      " 1 1 1 1 1 1 1 1 1 1 1 1 1 1 1 1 1 1 1 1 1 1 1 1 1 1 1 1 1 1 1 0 0 0 0 0 0\n",
      " 0 0 0 0 0 0 0 0 0 0 0 0 0 0 0 0 0 0 0 0 0 0 0 0 0 0]\n",
      "[[ 0.  1.  2. ...,  4.  3.  3.]\n",
      " [ 1.  0.  1. ...,  3.  2.  2.]\n",
      " [ 2.  1.  0. ...,  4.  3.  3.]\n",
      " ..., \n",
      " [ 4.  3.  4. ...,  0.  3.  3.]\n",
      " [ 3.  2.  3. ...,  3.  0.  2.]\n",
      " [ 3.  2.  3. ...,  3.  2.  0.]]\n",
      "[[ 0.  0.  0. ...,  0.  0.  0.]\n",
      " [ 1.  0.  0. ...,  0.  0.  0.]\n",
      " [ 1.  1.  0. ...,  0.  0.  0.]\n",
      " ..., \n",
      " [ 0.  0.  0. ...,  0.  0.  0.]\n",
      " [ 0.  0.  0. ...,  0.  0.  0.]\n",
      " [ 0.  0.  0. ...,  0.  0.  0.]]\n"
     ]
    },
    {
     "data": {
      "text/plain": [
       "(array([6, 7, 6, 6, 7, 6, 6, 6, 6, 6, 6, 6, 6, 8, 7, 6, 6, 6, 7, 6, 7, 6, 6,\n",
       "        6, 7, 6, 6, 7, 6, 6, 6, 6, 6, 6, 6, 6, 6, 1, 1, 1, 1, 1, 1, 1, 1, 1,\n",
       "        1, 1, 1, 1, 1, 1, 1, 1, 1, 1, 1, 1, 1, 1, 1, 1, 1, 1, 1, 1, 1, 1, 0,\n",
       "        0, 0, 0, 0, 0, 0, 0, 0, 0, 0, 0, 0, 0, 0, 0, 0, 0, 0, 0, 0, 0, 0, 0,\n",
       "        0, 0, 0, 0, 0, 0, 0, 0], dtype=int32),\n",
       " array([[ 0.,  0.,  0., ...,  0.,  0.,  0.],\n",
       "        [ 1.,  0.,  0., ...,  0.,  0.,  0.],\n",
       "        [ 1.,  1.,  0., ...,  0.,  0.,  0.],\n",
       "        ..., \n",
       "        [ 0.,  0.,  0., ...,  0.,  0.,  0.],\n",
       "        [ 0.,  0.,  0., ...,  0.,  0.,  0.],\n",
       "        [ 0.,  0.,  0., ...,  0.,  0.,  0.]], dtype=float32))"
      ]
     },
     "execution_count": 8,
     "metadata": {},
     "output_type": "execute_result"
    }
   ],
   "source": [
    "wp.get_descriptor(mol)"
   ]
  },
  {
   "cell_type": "code",
   "execution_count": null,
   "metadata": {
    "collapsed": true
   },
   "outputs": [],
   "source": []
  }
 ],
 "metadata": {
  "kernelspec": {
   "display_name": "Python 3",
   "language": "python",
   "name": "python3"
  },
  "language_info": {
   "codemirror_mode": {
    "name": "ipython",
    "version": 3
   },
   "file_extension": ".py",
   "mimetype": "text/x-python",
   "name": "python",
   "nbconvert_exporter": "python",
   "pygments_lexer": "ipython3",
   "version": "3.6.0"
  }
 },
 "nbformat": 4,
 "nbformat_minor": 2
}
